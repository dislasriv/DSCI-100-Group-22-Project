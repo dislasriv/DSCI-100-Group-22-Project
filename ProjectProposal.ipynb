{
 "cells": [
  {
   "cell_type": "markdown",
   "id": "57d912c7-a8c7-4566-b892-fceba9005679",
   "metadata": {},
   "source": [
    "## Group 22 Project Proposal"
   ]
  },
  {
   "cell_type": "markdown",
   "id": "3b5359a9-5cc0-4df4-b9ef-cfcb4f4bf940",
   "metadata": {},
   "source": [
    "## Introduction:\n",
    "n\n"
   ]
  },
  {
   "cell_type": "markdown",
   "id": "5bec8be4-5ecc-4f7f-abeb-b20b166f2576",
   "metadata": {},
   "source": [
    "## Preliminary exploratory data analysis:"
   ]
  },
  {
   "cell_type": "markdown",
   "id": "e9dcb52d-8928-475a-acfa-98f59b06674f",
   "metadata": {},
   "source": [
    "## Methods:"
   ]
  },
  {
   "cell_type": "markdown",
   "id": "9025ed9a-55cd-4ad9-bc65-73c0a239df36",
   "metadata": {},
   "source": [
    "## Expected outcomes and significance:"
   ]
  },
  {
   "cell_type": "code",
   "execution_count": null,
   "id": "2abcc544-0aad-4904-9eaf-984814b97b94",
   "metadata": {},
   "outputs": [],
   "source": []
  }
 ],
 "metadata": {
  "kernelspec": {
   "display_name": "R",
   "language": "R",
   "name": "ir"
  },
  "language_info": {
   "codemirror_mode": "r",
   "file_extension": ".r",
   "mimetype": "text/x-r-source",
   "name": "R",
   "pygments_lexer": "r",
   "version": "4.3.1"
  }
 },
 "nbformat": 4,
 "nbformat_minor": 5
}
