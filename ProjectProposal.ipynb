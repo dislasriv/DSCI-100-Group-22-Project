{
 "cells": [
  {
   "cell_type": "markdown",
   "id": "57d912c7-a8c7-4566-b892-fceba9005679",
   "metadata": {},
   "source": [
    "## Group 22 Project Proposal"
   ]
  },
  {
   "cell_type": "markdown",
   "id": "3b5359a9-5cc0-4df4-b9ef-cfcb4f4bf940",
   "metadata": {},
   "source": [
    "## Introduction:\n",
    "\n",
    "Doctors and medical professionals around the world deal with and diagnose heart disease daily, in the US it is a leading cause of death, and one of the most significant afflictions worldwide that people spend their entire lives trying to circumvent. Everyone has at some point heard, either from a doctor or a person who has visted one, about the risk factors that lead to heart disease. Most professionals cite things like blood pressure, obesity, blood sugar level, diabetes, blood-cholesterol concentration and other chemical and physical factors that cause heart disease. With this in mind, we will be working with the UC Irvine Heart Disease dataset to answer whether or not we can use a person's resting blood pressure and cholesterol levels to predict whether they will be diagnosed with heart disease or not.\n",
    "\n",
    "The dataset contains fourteen variables age, sex, chest pain type, resting blood pressure in mmHg (millimeters of mercury), cholsterol levels in mg/dl (milligrams per deciliter), whether the paitent's fasting blood sugar is above 120 mg/dl, type of resting electrocardiographic results, patient's maximum heart rate (bpm), whether exercise induced chest pain in a patient, the ST depression induced by exercise, the slope of the ST segement at peak excercise, the amount of blood vessels analyzed for a patient, whether the patient has Thalassemia (blood disorder) and finally the heart disease diagnosis.\n"
   ]
  },
  {
   "cell_type": "markdown",
   "id": "5bec8be4-5ecc-4f7f-abeb-b20b166f2576",
   "metadata": {},
   "source": [
    "## Preliminary exploratory data analysis:"
   ]
  },
  {
   "cell_type": "markdown",
   "id": "a6a82df4-b0c5-4110-93b6-57838c1074ca",
   "metadata": {},
   "source": [
    "**Reading the dataset in from the web**"
   ]
  },
  {
   "cell_type": "code",
   "execution_count": null,
   "id": "09587ad5-baa3-421a-ae63-781a9b2561e0",
   "metadata": {},
   "outputs": [],
   "source": [
    "#Dataset reading\n",
    "#heart_disease_data <- read_csv()"
   ]
  },
  {
   "cell_type": "markdown",
   "id": "e9dcb52d-8928-475a-acfa-98f59b06674f",
   "metadata": {},
   "source": [
    "## Methods:"
   ]
  },
  {
   "cell_type": "markdown",
   "id": "9025ed9a-55cd-4ad9-bc65-73c0a239df36",
   "metadata": {},
   "source": [
    "## Expected outcomes and significance:"
   ]
  },
  {
   "cell_type": "code",
   "execution_count": null,
   "id": "2abcc544-0aad-4904-9eaf-984814b97b94",
   "metadata": {},
   "outputs": [],
   "source": []
  }
 ],
 "metadata": {
  "kernelspec": {
   "display_name": "R",
   "language": "R",
   "name": "ir"
  },
  "language_info": {
   "codemirror_mode": "r",
   "file_extension": ".r",
   "mimetype": "text/x-r-source",
   "name": "R",
   "pygments_lexer": "r",
   "version": "4.3.1"
  }
 },
 "nbformat": 4,
 "nbformat_minor": 5
}
